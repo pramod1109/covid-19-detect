{
 "cells": [
  {
   "cell_type": "code",
   "execution_count": 2,
   "metadata": {},
   "outputs": [
    {
     "name": "stderr",
     "output_type": "stream",
     "text": [
      "Using TensorFlow backend.\n"
     ]
    }
   ],
   "source": [
    "from keras.preprocessing.image import ImageDataGenerator\n",
    "from keras.models import Sequential\n",
    "from keras.layers import Conv2D,MaxPooling2D\n",
    "from keras.layers import Activation,Flatten, Dense, Dropout\n",
    "from keras import backend as k\n",
    "import numpy as np\n",
    "from keras.preprocessing import image"
   ]
  },
  {
   "cell_type": "code",
   "execution_count": 3,
   "metadata": {},
   "outputs": [],
   "source": [
    "img_width,img_height=150,150\n",
    "\n",
    "train_data_dir='content/two/train'\n",
    "validation_data_dir='content/two/test'\n",
    "nb_train_samples=130\n",
    "nb_validation_samples=18\n",
    "epochs=10\n",
    "batch_size=20"
   ]
  },
  {
   "cell_type": "code",
   "execution_count": 4,
   "metadata": {},
   "outputs": [],
   "source": [
    "if k.image_data_format()=='channels_first':\n",
    "    input_shape=(3,img_width,img_height)\n",
    "else:\n",
    "    input_shape=(img_width,img_height,3)"
   ]
  },
  {
   "cell_type": "code",
   "execution_count": 5,
   "metadata": {},
   "outputs": [
    {
     "name": "stderr",
     "output_type": "stream",
     "text": [
      "C:\\Users\\kpbab\\Anaconda3\\envs\\covid-19-detector-testing\\lib\\site-packages\\keras_preprocessing\\image\\image_data_generator.py:341: UserWarning: This ImageDataGenerator specifies `zca_whitening` which overrides setting of`featurewise_std_normalization`.\n",
      "  warnings.warn('This ImageDataGenerator specifies '\n"
     ]
    }
   ],
   "source": [
    "train_datagen=ImageDataGenerator(rescale=1./255,\n",
    "                                   rotation_range=50,\n",
    "                                   featurewise_center = True,\n",
    "                                   featurewise_std_normalization = True,\n",
    "                                   width_shift_range=0.2,\n",
    "                                   height_shift_range=0.2,\n",
    "                                   shear_range=0.25,\n",
    "                                   zoom_range=0.1,\n",
    "                                   zca_whitening = True,\n",
    "                                   channel_shift_range = 20,\n",
    "                                   horizontal_flip = True ,\n",
    "                                   vertical_flip = True ,\n",
    "                                   validation_split = 0.2,\n",
    "                                   fill_mode='constant')\n",
    "test_datagen=ImageDataGenerator(rescale=1./255)"
   ]
  },
  {
   "cell_type": "code",
   "execution_count": 6,
   "metadata": {},
   "outputs": [
    {
     "name": "stdout",
     "output_type": "stream",
     "text": [
      "Found 130 images belonging to 2 classes.\n",
      "Found 18 images belonging to 2 classes.\n"
     ]
    }
   ],
   "source": [
    "train_generator=train_datagen.flow_from_directory(train_data_dir,\n",
    "                                                  target_size=(img_width,img_height),\n",
    "                                                  shuffle=True,\n",
    "                                                  batch_size=batch_size,\n",
    "                                                  class_mode=\"binary\",                                                \n",
    "                                                  )\n",
    "validation_generator=test_datagen.flow_from_directory(validation_data_dir,\n",
    "                                                  target_size=(img_width,img_height),\n",
    "                                                  shuffle=True,\n",
    "                                                  batch_size=batch_size,\n",
    "                                                  class_mode=\"binary\",                                                \n",
    "                                                  )"
   ]
  },
  {
   "cell_type": "code",
   "execution_count": 7,
   "metadata": {},
   "outputs": [
    {
     "name": "stdout",
     "output_type": "stream",
     "text": [
      "Model: \"sequential_1\"\n",
      "_________________________________________________________________\n",
      "Layer (type)                 Output Shape              Param #   \n",
      "=================================================================\n",
      "conv2d_1 (Conv2D)            (None, 148, 148, 32)      896       \n",
      "_________________________________________________________________\n",
      "activation_1 (Activation)    (None, 148, 148, 32)      0         \n",
      "_________________________________________________________________\n",
      "max_pooling2d_1 (MaxPooling2 (None, 74, 74, 32)        0         \n",
      "=================================================================\n",
      "Total params: 896\n",
      "Trainable params: 896\n",
      "Non-trainable params: 0\n",
      "_________________________________________________________________\n"
     ]
    }
   ],
   "source": [
    "model=Sequential()\n",
    "model.add(Conv2D(32,(3,3),input_shape=input_shape))\n",
    "model.add(Activation('relu'))\n",
    "model.add(MaxPooling2D(pool_size=(2,2)))\n",
    "model.summary()"
   ]
  },
  {
   "cell_type": "code",
   "execution_count": 8,
   "metadata": {},
   "outputs": [
    {
     "name": "stdout",
     "output_type": "stream",
     "text": [
      "Model: \"sequential_1\"\n",
      "_________________________________________________________________\n",
      "Layer (type)                 Output Shape              Param #   \n",
      "=================================================================\n",
      "conv2d_1 (Conv2D)            (None, 148, 148, 32)      896       \n",
      "_________________________________________________________________\n",
      "activation_1 (Activation)    (None, 148, 148, 32)      0         \n",
      "_________________________________________________________________\n",
      "max_pooling2d_1 (MaxPooling2 (None, 74, 74, 32)        0         \n",
      "_________________________________________________________________\n",
      "conv2d_2 (Conv2D)            (None, 72, 72, 32)        9248      \n",
      "_________________________________________________________________\n",
      "activation_2 (Activation)    (None, 72, 72, 32)        0         \n",
      "_________________________________________________________________\n",
      "max_pooling2d_2 (MaxPooling2 (None, 36, 36, 32)        0         \n",
      "_________________________________________________________________\n",
      "conv2d_3 (Conv2D)            (None, 34, 34, 64)        18496     \n",
      "_________________________________________________________________\n",
      "activation_3 (Activation)    (None, 34, 34, 64)        0         \n",
      "_________________________________________________________________\n",
      "max_pooling2d_3 (MaxPooling2 (None, 17, 17, 64)        0         \n",
      "_________________________________________________________________\n",
      "flatten_1 (Flatten)          (None, 18496)             0         \n",
      "_________________________________________________________________\n",
      "dense_1 (Dense)              (None, 64)                1183808   \n",
      "_________________________________________________________________\n",
      "activation_4 (Activation)    (None, 64)                0         \n",
      "_________________________________________________________________\n",
      "dropout_1 (Dropout)          (None, 64)                0         \n",
      "_________________________________________________________________\n",
      "dense_2 (Dense)              (None, 1)                 65        \n",
      "_________________________________________________________________\n",
      "activation_5 (Activation)    (None, 1)                 0         \n",
      "=================================================================\n",
      "Total params: 1,212,513\n",
      "Trainable params: 1,212,513\n",
      "Non-trainable params: 0\n",
      "_________________________________________________________________\n"
     ]
    }
   ],
   "source": [
    "model.add(Conv2D(32,(3,3)))\n",
    "model.add(Activation('relu'))\n",
    "model.add(MaxPooling2D(pool_size=(2,2)))\n",
    "\n",
    "model.add(Conv2D(64,(3,3)))\n",
    "model.add(Activation('relu'))\n",
    "model.add(MaxPooling2D(pool_size=(2,2)))\n",
    "\n",
    "model.add(Flatten())\n",
    "model.add(Dense(64))\n",
    "model.add(Activation('relu'))\n",
    "model.add(Dropout(0.5))\n",
    "model.add(Dense(1))\n",
    "model.add(Activation('sigmoid'))\n",
    "model.summary()"
   ]
  },
  {
   "cell_type": "code",
   "execution_count": 9,
   "metadata": {},
   "outputs": [],
   "source": [
    "model.compile(loss='binary_crossentropy',\n",
    "             optimizer='rmsprop',\n",
    "             metrics=['accuracy'])"
   ]
  },
  {
   "cell_type": "code",
   "execution_count": 10,
   "metadata": {},
   "outputs": [
    {
     "name": "stdout",
     "output_type": "stream",
     "text": [
      "Epoch 1/10\n"
     ]
    },
    {
     "name": "stderr",
     "output_type": "stream",
     "text": [
      "C:\\Users\\kpbab\\Anaconda3\\envs\\covid-19-detector-testing\\lib\\site-packages\\keras_preprocessing\\image\\image_data_generator.py:716: UserWarning: This ImageDataGenerator specifies `featurewise_center`, but it hasn't been fit on any training data. Fit it first by calling `.fit(numpy_data)`.\n",
      "  warnings.warn('This ImageDataGenerator specifies '\n",
      "C:\\Users\\kpbab\\Anaconda3\\envs\\covid-19-detector-testing\\lib\\site-packages\\keras_preprocessing\\image\\image_data_generator.py:735: UserWarning: This ImageDataGenerator specifies `zca_whitening`, but it hasn't been fit on any training data. Fit it first by calling `.fit(numpy_data)`.\n",
      "  warnings.warn('This ImageDataGenerator specifies '\n"
     ]
    },
    {
     "name": "stdout",
     "output_type": "stream",
     "text": [
      "6/6 [==============================] - 5s 877ms/step - loss: 0.9795 - accuracy: 0.4818 - val_loss: 0.6918 - val_accuracy: 0.5000\n",
      "Epoch 2/10\n",
      "6/6 [==============================] - 5s 825ms/step - loss: 0.6975 - accuracy: 0.5000 - val_loss: 0.6898 - val_accuracy: 0.5000\n",
      "Epoch 3/10\n",
      "6/6 [==============================] - 5s 896ms/step - loss: 0.6887 - accuracy: 0.5333 - val_loss: 0.6907 - val_accuracy: 0.5000\n",
      "Epoch 4/10\n",
      "6/6 [==============================] - 4s 716ms/step - loss: 0.8553 - accuracy: 0.6200 - val_loss: 0.6961 - val_accuracy: 0.5000\n",
      "Epoch 5/10\n",
      "6/6 [==============================] - 5s 775ms/step - loss: 0.7015 - accuracy: 0.4727 - val_loss: 0.6948 - val_accuracy: 0.5000\n",
      "Epoch 6/10\n",
      "6/6 [==============================] - 5s 885ms/step - loss: 0.6922 - accuracy: 0.6083 - val_loss: 0.6954 - val_accuracy: 0.5556\n",
      "Epoch 7/10\n",
      "6/6 [==============================] - 5s 778ms/step - loss: 0.6739 - accuracy: 0.5727 - val_loss: 0.7249 - val_accuracy: 0.5000\n",
      "Epoch 8/10\n",
      "6/6 [==============================] - 5s 810ms/step - loss: 0.6787 - accuracy: 0.5545 - val_loss: 0.7512 - val_accuracy: 0.5000\n",
      "Epoch 9/10\n",
      "6/6 [==============================] - 5s 835ms/step - loss: 0.6307 - accuracy: 0.6636 - val_loss: 0.7230 - val_accuracy: 0.5000\n",
      "Epoch 10/10\n",
      "6/6 [==============================] - 4s 737ms/step - loss: 0.8523 - accuracy: 0.5273 - val_loss: 0.7187 - val_accuracy: 0.5000\n"
     ]
    },
    {
     "data": {
      "text/plain": [
       "<keras.callbacks.callbacks.History at 0x267f0d97148>"
      ]
     },
     "execution_count": 10,
     "metadata": {},
     "output_type": "execute_result"
    }
   ],
   "source": [
    "model.fit_generator(train_generator,\n",
    "                   steps_per_epoch=nb_train_samples//batch_size,\n",
    "                   epochs=epochs,\n",
    "                   validation_data=validation_generator,\n",
    "                   validation_steps=nb_validation_samples//batch_size)"
   ]
  },
  {
   "cell_type": "code",
   "execution_count": 11,
   "metadata": {},
   "outputs": [],
   "source": [
    "model.save_weights('first_try.h5')"
   ]
  },
  {
   "cell_type": "code",
   "execution_count": 12,
   "metadata": {},
   "outputs": [
    {
     "name": "stdout",
     "output_type": "stream",
     "text": [
      "1.0\n",
      "covid-19\n"
     ]
    }
   ],
   "source": [
    "img_pred=image.load_img('content/two/train/covid/1B734A89-A1BF-49A8-A1D3-66FAFA4FAC5D.jpeg',target_size=(150,150))\n",
    "img_pred=image.img_to_array(img_pred)\n",
    "img_pred=np.expand_dims(img_pred,axis=0)\n",
    "result=model.predict(img_pred)\n",
    "print(result[0][0])\n",
    "if result[0][0]<=0.35:\n",
    "    pred=\"normal\"\n",
    "else:\n",
    "    pred=\"covid-19\"\n",
    "print(pred)"
   ]
  },
  {
   "cell_type": "code",
   "execution_count": null,
   "metadata": {},
   "outputs": [],
   "source": []
  }
 ],
 "metadata": {
  "kernelspec": {
   "display_name": "Python 3",
   "language": "python",
   "name": "python3"
  },
  "language_info": {
   "codemirror_mode": {
    "name": "ipython",
    "version": 3
   },
   "file_extension": ".py",
   "mimetype": "text/x-python",
   "name": "python",
   "nbconvert_exporter": "python",
   "pygments_lexer": "ipython3",
   "version": "3.7.7"
  }
 },
 "nbformat": 4,
 "nbformat_minor": 4
}
